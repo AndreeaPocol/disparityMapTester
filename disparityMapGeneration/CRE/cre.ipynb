{
  "nbformat": 4,
  "nbformat_minor": 0,
  "metadata": {
    "colab": {
      "provenance": [],
      "gpuType": "T4"
    },
    "kernelspec": {
      "name": "python3",
      "display_name": "Python 3"
    },
    "language_info": {
      "name": "python"
    },
    "accelerator": "GPU"
  },
  "cells": [
    {
      "cell_type": "code",
      "execution_count": null,
      "metadata": {
        "id": "HTLHDQSwaMYY"
      },
      "outputs": [],
      "source": [
        "!nvidia-smi"
      ]
    },
    {
      "cell_type": "code",
      "source": [
        "import torch\n",
        "torch.cuda.is_available()"
      ],
      "metadata": {
        "id": "sbCJwEsgahKZ"
      },
      "execution_count": null,
      "outputs": []
    },
    {
      "cell_type": "markdown",
      "source": [
        "## Download CRE Stereo code"
      ],
      "metadata": {
        "id": "S15C98IRU6qp"
      }
    },
    {
      "cell_type": "code",
      "source": [
        "!git clone https://github.com/megvii-research/CREStereo.git"
      ],
      "metadata": {
        "id": "4VlCUaIJY9An"
      },
      "execution_count": null,
      "outputs": []
    },
    {
      "cell_type": "code",
      "source": [
        "!pip install -r CREStereo/requirements.txt"
      ],
      "metadata": {
        "id": "L5gSEUrVZM5i"
      },
      "execution_count": null,
      "outputs": []
    },
    {
      "cell_type": "markdown",
      "source": [
        "## Generate left disparity map"
      ],
      "metadata": {
        "id": "4moq1ECLVAP-"
      }
    },
    {
      "cell_type": "markdown",
      "source": [
        "May have to resolve typo in `/content/CREStereo/nets/corr.py:39`:\n",
        "```\n",
        "TypeError: pad() got an unexpected keyword argument 'pad_witdth'\n",
        "```\n",
        "\n",
        "Also remove color-mapping in `/content/CREStereo/test.py:101`"
      ],
      "metadata": {
        "id": "r_ZWBgjiOdQV"
      }
    },
    {
      "cell_type": "code",
      "source": [
        "# !python3 CREStereo/test.py --model CREStereo/crestereo_eth3d.mge --left CREStereo/img/test/roses_L.png --right CREStereo/img/test/roses_R.png --size 500x338 --output left_disparity.png\n",
        "!mv left_disparity.png CREStereo/img/test/roses_left_disparity.png\n"
      ],
      "metadata": {
        "id": "ml7i0moGZBlo"
      },
      "execution_count": null,
      "outputs": []
    },
    {
      "cell_type": "markdown",
      "source": [
        "## Generate right disparity map"
      ],
      "metadata": {
        "id": "ijkdC8JWVG2H"
      }
    },
    {
      "cell_type": "code",
      "source": [
        "# !pip install opencv-python\n",
        "\n",
        "import cv2\n",
        "from google.colab.patches import cv2_imshow\n",
        "\n",
        "'''\n",
        "Rotate left and right disparity maps\n",
        "'''\n",
        "left_img = cv2.imread(\"CREStereo/img/test/roses_L.png\")\n",
        "rotated_left_img = left_img[:, ::-1]\n",
        "# cv2_imshow(rotated_left_img)\n",
        "cv2.imwrite(\"roses_L_rotated.png\", rotated_left_img)\n",
        "\n",
        "right_img = cv2.imread(\"CREStereo/img/test/roses_R.png\")\n",
        "rotated_right_img = right_img[:, ::-1]\n",
        "# cv2_imshow(rotated_right_img)\n",
        "cv2.imwrite(\"roses_R_rotated.png\", rotated_right_img)\n",
        "\n",
        "!mv roses_R_rotated.png CREStereo/img/test/roses_R_rotated.png\n",
        "!mv roses_L_rotated.png CREStereo/img/test/roses_L_rotated.png\n",
        "\n",
        "'''\n",
        "Generate rotated version of right disparity map\n",
        "'''\n",
        "!python3 CREStereo/test.py --model CREStereo/crestereo_eth3d.mge --left CREStereo/img/test/roses_R_rotated.png --right CREStereo/img/test/roses_L_rotated.png --size 500x338 --output right_disparity_rotated.png\n"
      ],
      "metadata": {
        "id": "LT8AkrlDGNPt"
      },
      "execution_count": null,
      "outputs": []
    },
    {
      "cell_type": "code",
      "source": [
        "'''\n",
        "Correct orientation of right disparity map\n",
        "'''\n",
        "right_disp_rotated = cv2.imread(\"right_disparity_rotated.png\")\n",
        "cv2_imshow(right_disp_rotated)\n",
        "right_disp = right_disp_rotated[:, ::-1]\n",
        "cv2_imshow(right_disp)\n",
        "cv2.imwrite(\"roses_right_disparity.png\", right_disp)\n",
        "\n",
        "!mv roses_right_disparity.png CREStereo/img/test/roses_right_disparity.png"
      ],
      "metadata": {
        "id": "cjUqlxtKQU-j"
      },
      "execution_count": null,
      "outputs": []
    },
    {
      "cell_type": "markdown",
      "source": [
        "## Convert disparity maps to grayscale"
      ],
      "metadata": {
        "id": "KIPQtJUrVPZM"
      }
    },
    {
      "cell_type": "code",
      "source": [
        "import cv2\n",
        "from google.colab.patches import cv2_imshow\n",
        "import numpy as np\n",
        "\n",
        "def convertRgbToGrayscale(color_image, side):\n",
        "    # This solution is based on\n",
        "    # https://stackoverflow.com/questions/51824718/opencv-jetmap-or-colormap-to-grayscale-reverse-applycolormap\n",
        "    # create an inverse from the colormap to gray values\n",
        "    gray_values = np.arange(256, dtype=np.uint8)\n",
        "    color_values = map(tuple, cv2.applyColorMap(gray_values, cv2.COLORMAP_INFERNO).reshape(256, 3))\n",
        "    color_to_gray_map = dict(zip(color_values, gray_values))\n",
        "\n",
        "    # apply the inverse map to the false color image to reconstruct the grayscale image\n",
        "    gray_image = np.apply_along_axis(lambda bgr: color_to_gray_map[tuple(bgr)], 2, color_image)\n",
        "\n",
        "    # save reconstructed grayscale image\n",
        "    cv2.imwrite(f'grayscale_disp_map_{side}.png', gray_image)\n",
        "    return gray_image\n",
        "\n",
        "disp = cv2.imread(\"CREStereo/img/test/roses_left_disparity.png\", cv2.IMREAD_UNCHANGED)\n",
        "left_disp_gray = convertRgbToGrayscale(disp, \"left\")\n",
        "\n",
        "cv2_imshow(left_disp_gray)\n",
        "\n",
        "disp = cv2.imread(\"CREStereo/img/test/roses_right_disparity.png\", cv2.IMREAD_UNCHANGED)\n",
        "right_disp_gray = convertRgbToGrayscale(disp, \"right\")\n",
        "\n",
        "cv2_imshow(right_disp_gray)"
      ],
      "metadata": {
        "id": "LiSePJ3K9Coi"
      },
      "execution_count": null,
      "outputs": []
    },
    {
      "cell_type": "markdown",
      "source": [
        "# Batch"
      ],
      "metadata": {
        "id": "hhE5dj19CLRx"
      }
    },
    {
      "cell_type": "code",
      "source": [
        "!unzip test.zip"
      ],
      "metadata": {
        "id": "dVo2UyQlALlX"
      },
      "execution_count": null,
      "outputs": []
    },
    {
      "cell_type": "code",
      "source": [
        "import cv2\n",
        "from google.colab import files\n",
        "from google.colab.patches import cv2_imshow\n",
        "\n",
        "imgs = [\n",
        "    # \"art\",\n",
        "    # \"flowerbed\",\n",
        "    \"lilies\",\n",
        "    # \"statue\",\n",
        "    # \"sunflowers\",\n",
        "    # \"tree\",\n",
        "    # \"trees\",\n",
        "    # \"woods\",\n",
        "    # \"roses\",\n",
        "    # \"rock\",\n",
        "    # \"peaches\",\n",
        "    # \"mug\",\n",
        "    # \"grapes\"\n",
        "]\n",
        "\n",
        "for img in imgs:\n",
        "  left_img = cv2.imread(f\"test/{img}/{img}_L.png\")\n",
        "  right_img = cv2.imread(f\"test/{img}/{img}_R.png\")\n",
        "  x = left_img.shape[0]\n",
        "  y = left_img.shape[1]\n",
        "  !python3 CREStereo/test.py --model CREStereo/crestereo_eth3d.mge --left test/{img}/{img}_L.png --right test/{img}/{img}_R.png --size {x}x{y} --output {img}-output/left_disparity.png\n",
        "\n",
        "  rotated_left_img = left_img[:, ::-1]\n",
        "  cv2.imwrite(f\"test/{img}/{img}_L_rotated.png\", rotated_left_img)\n",
        "  rotated_right_img = right_img[:, ::-1]\n",
        "  cv2.imwrite(f\"test/{img}/{img}_R_rotated.png\", rotated_right_img)\n",
        "\n",
        "  !python3 CREStereo/test.py --model CREStereo/crestereo_eth3d.mge --left test/{img}/{img}_R_rotated.png --right test/{img}/{img}_L_rotated.png --size {x}x{y} --output {img}-output/right_disparity_rotated.png\n",
        "\n",
        "  right_disp_rotated = cv2.imread(f\"{img}-output/right_disparity_rotated.png\")\n",
        "  right_disp = right_disp_rotated[:, ::-1]\n",
        "  cv2.imwrite(f\"{img}-output/right_disparity.png\", right_disp)\n",
        "\n",
        "  !zip -r {img}-output.zip {img}-output\n",
        "  files.download(f\"{img}-output.zip\")"
      ],
      "metadata": {
        "id": "WzfCP_ylCQKf"
      },
      "execution_count": null,
      "outputs": []
    }
  ]
}