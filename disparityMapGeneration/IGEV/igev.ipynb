{
  "nbformat": 4,
  "nbformat_minor": 0,
  "metadata": {
    "colab": {
      "provenance": [],
      "gpuType": "T4",
      "collapsed_sections": [
        "1Cx5INLZX2yS",
        "cspsxS3QX669"
      ]
    },
    "kernelspec": {
      "name": "python3",
      "display_name": "Python 3"
    },
    "language_info": {
      "name": "python"
    },
    "accelerator": "GPU"
  },
  "cells": [
    {
      "cell_type": "code",
      "source": [
        "!nvidia-smi"
      ],
      "metadata": {
        "id": "_ywi2nyUrgRZ"
      },
      "execution_count": null,
      "outputs": []
    },
    {
      "cell_type": "code",
      "source": [
        "import torch\n",
        "torch.cuda.is_available()"
      ],
      "metadata": {
        "id": "vBzOm-ELrgw4"
      },
      "execution_count": null,
      "outputs": []
    },
    {
      "cell_type": "code",
      "source": [
        "!git clone https://github.com/gangweiX/IGEV.git"
      ],
      "metadata": {
        "id": "eIyW_aK_DV5Z"
      },
      "execution_count": null,
      "outputs": []
    },
    {
      "cell_type": "markdown",
      "source": [
        "In `/content/IGEV/IGEV-Stereo/demo_imgs.py`, change\n",
        "```\n",
        "from igev_stereo import IGEVStereo\n",
        "from utils.utils import InputPadder\n",
        "```\n",
        "to\n",
        "```\n",
        "from core.igev_stereo import IGEVStereo\n",
        "from core.utils.utils import InputPadder\n",
        "```\n",
        "\n",
        "Also change line 52 to\n",
        "```\n",
        "plt.imsave(output_directory / f\"{file_stem}.png\", disp.squeeze(), cmap='gray')\n",
        "\n",
        "```\n",
        "to avoid color-mapping the disparity map."
      ],
      "metadata": {
        "id": "O-YmrqFSkaBW"
      }
    },
    {
      "cell_type": "code",
      "source": [
        "!conda install pytorch torchvision torchaudio cudatoolkit=11.3 -c pytorch -c nvidia\n",
        "!pip install opencv-python\n",
        "!pip install scikit-image\n",
        "!pip install tensorboard\n",
        "!pip install matplotlib\n",
        "!pip install tqdm\n",
        "!pip install timm==0.5.4"
      ],
      "metadata": {
        "id": "hdB6uuJrWJJE"
      },
      "execution_count": null,
      "outputs": []
    },
    {
      "cell_type": "markdown",
      "source": [
        "# Generate left disparity map"
      ],
      "metadata": {
        "id": "1Cx5INLZX2yS"
      }
    },
    {
      "cell_type": "code",
      "source": [
        "!python IGEV/IGEV-Stereo/demo_imgs.py --restore_ckpt /content/sceneflow.pth -l IGEV/roses_L.png -r IGEV/roses_R.png"
      ],
      "metadata": {
        "id": "WRIqh3G9PzNu"
      },
      "execution_count": null,
      "outputs": []
    },
    {
      "cell_type": "markdown",
      "source": [
        "# Generate right disparity map"
      ],
      "metadata": {
        "id": "cspsxS3QX669"
      }
    },
    {
      "cell_type": "code",
      "source": [
        "import cv2\n",
        "from google.colab.patches import cv2_imshow\n",
        "\n",
        "'''\n",
        "Rotate left and right input images\n",
        "'''\n",
        "left_img = cv2.imread(\"/content/IGEV/roses_L.png\")\n",
        "rotated_left_img = left_img[:, ::-1]\n",
        "# cv2_imshow(rotated_left_img)\n",
        "cv2.imwrite(\"/content/IGEV/roses_L_rotated.png\", rotated_left_img)\n",
        "\n",
        "right_img = cv2.imread(\"/content/IGEV/roses_R.png\")\n",
        "rotated_right_img = right_img[:, ::-1]\n",
        "# cv2_imshow(rotated_right_img)\n",
        "cv2.imwrite(\"/content/IGEV/roses_R_rotated.png\", rotated_right_img)\n",
        "\n",
        "\n",
        "'''\n",
        "Generate rotated version of right disparity map\n",
        "'''\n",
        "!python IGEV/IGEV-Stereo/demo_imgs.py --restore_ckpt ./sceneflow.pth -l /content/IGEV/roses_R_rotated.png -r /content/IGEV/roses_L_rotated.png\n",
        "'''\n",
        "Correct orientation of right disparity map\n",
        "'''\n",
        "right_disp_rotated = cv2.imread(\"/content/demo-output/IGEV.png\")\n",
        "# cv2_imshow(right_disp_rotated)\n",
        "right_disp = right_disp_rotated[:, ::-1]\n",
        "cv2_imshow(right_disp)\n",
        "cv2.imwrite(\"/content/demo-output/roses_right_disparity.png\", right_disp)"
      ],
      "metadata": {
        "id": "rBRc2YwbS4Jt"
      },
      "execution_count": null,
      "outputs": []
    },
    {
      "cell_type": "markdown",
      "source": [
        "# Generate report"
      ],
      "metadata": {
        "id": "sjj9ELvVX-tZ"
      }
    },
    {
      "cell_type": "code",
      "source": [
        "!unzip test.zip"
      ],
      "metadata": {
        "id": "vpyneIjPcNqV"
      },
      "execution_count": null,
      "outputs": []
    },
    {
      "cell_type": "code",
      "source": [
        "import cv2\n",
        "from google.colab import files\n",
        "\n",
        "imgs = [\n",
        "    # \"art\",\n",
        "    # \"flowerbed\",\n",
        "    \"lilies\",\n",
        "    # \"statue\",\n",
        "    # \"sunflowers\",\n",
        "    # \"tree\",\n",
        "    # \"trees\",\n",
        "    \"woods\",\n",
        "    # \"roses\",\n",
        "    # \"rock\",\n",
        "    # \"peaches\",\n",
        "    # \"mug\",\n",
        "    # \"grapes\"\n",
        "]\n",
        "\n",
        "for img in imgs:\n",
        "  !python IGEV/IGEV-Stereo/demo_imgs.py --restore_ckpt /content/sceneflow.pth -l /content/test/{img}/{img}_L.png -r /content/test/{img}/{img}_R.png --output_directory {img}-output\n",
        "\n",
        "  left_img = cv2.imread(f\"/content/test/{img}/{img}_L.png\")\n",
        "  rotated_left_img = left_img[:, ::-1]\n",
        "  cv2.imwrite(f\"/content/test/{img}/{img}_L_rotated.png\", rotated_left_img)\n",
        "  right_img = cv2.imread(f\"/content/test/{img}/{img}_R.png\")\n",
        "  rotated_right_img = right_img[:, ::-1]\n",
        "  cv2.imwrite(f\"/content/test/{img}/{img}_R_rotated.png\", rotated_right_img)\n",
        "\n",
        "  !python IGEV/IGEV-Stereo/demo_imgs.py --restore_ckpt /content/sceneflow.pth -l /content/test/{img}/{img}_R_rotated.png -r /content/test/{img}/{img}_L_rotated.png --output_directory test/{img}\n",
        "  right_disp_rotated = cv2.imread(f\"/content/test/{img}/{img}.png\")\n",
        "  right_disp = right_disp_rotated[:, ::-1]\n",
        "  cv2.imwrite(f\"{img}-output/right_disparity.png\", right_disp)\n",
        "\n",
        "  !zip -r {img}-output.zip {img}-output\n",
        "  files.download(f\"{img}-output.zip\")\n"
      ],
      "metadata": {
        "colab": {
          "base_uri": "https://localhost:8080/",
          "height": 260
        },
        "id": "FS13K0mycSOR",
        "outputId": "67de165c-3b7d-4296-8a47-e5a7a3d338fa"
      },
      "execution_count": 9,
      "outputs": [
        {
          "output_type": "stream",
          "name": "stdout",
          "text": [
            "Found 1 images. Saving files to lilies-output/\n",
            "100% 1/1 [00:02<00:00,  2.34s/it]\n",
            "Found 1 images. Saving files to test/lilies/\n",
            "100% 1/1 [00:02<00:00,  2.81s/it]\n",
            "updating: lilies-output/ (stored 0%)\n",
            "updating: lilies-output/right_disparity.png (deflated 17%)\n",
            "updating: lilies-output/lilies.png (deflated 1%)\n"
          ]
        },
        {
          "output_type": "display_data",
          "data": {
            "text/plain": [
              "<IPython.core.display.Javascript object>"
            ],
            "application/javascript": [
              "\n",
              "    async function download(id, filename, size) {\n",
              "      if (!google.colab.kernel.accessAllowed) {\n",
              "        return;\n",
              "      }\n",
              "      const div = document.createElement('div');\n",
              "      const label = document.createElement('label');\n",
              "      label.textContent = `Downloading \"${filename}\": `;\n",
              "      div.appendChild(label);\n",
              "      const progress = document.createElement('progress');\n",
              "      progress.max = size;\n",
              "      div.appendChild(progress);\n",
              "      document.body.appendChild(div);\n",
              "\n",
              "      const buffers = [];\n",
              "      let downloaded = 0;\n",
              "\n",
              "      const channel = await google.colab.kernel.comms.open(id);\n",
              "      // Send a message to notify the kernel that we're ready.\n",
              "      channel.send({})\n",
              "\n",
              "      for await (const message of channel.messages) {\n",
              "        // Send a message to notify the kernel that we're ready.\n",
              "        channel.send({})\n",
              "        if (message.buffers) {\n",
              "          for (const buffer of message.buffers) {\n",
              "            buffers.push(buffer);\n",
              "            downloaded += buffer.byteLength;\n",
              "            progress.value = downloaded;\n",
              "          }\n",
              "        }\n",
              "      }\n",
              "      const blob = new Blob(buffers, {type: 'application/binary'});\n",
              "      const a = document.createElement('a');\n",
              "      a.href = window.URL.createObjectURL(blob);\n",
              "      a.download = filename;\n",
              "      div.appendChild(a);\n",
              "      a.click();\n",
              "      div.remove();\n",
              "    }\n",
              "  "
            ]
          },
          "metadata": {}
        },
        {
          "output_type": "display_data",
          "data": {
            "text/plain": [
              "<IPython.core.display.Javascript object>"
            ],
            "application/javascript": [
              "download(\"download_3cb1c9b6-1e54-4727-a13d-1e9ee002e322\", \"lilies-output.zip\", 273648)"
            ]
          },
          "metadata": {}
        },
        {
          "output_type": "stream",
          "name": "stdout",
          "text": [
            "Found 1 images. Saving files to woods-output/\n",
            "100% 1/1 [00:02<00:00,  2.20s/it]\n",
            "Found 1 images. Saving files to test/woods/\n",
            "100% 1/1 [00:02<00:00,  2.18s/it]\n",
            "updating: woods-output/ (stored 0%)\n",
            "updating: woods-output/woods.png (deflated 1%)\n",
            "updating: woods-output/right_disparity.png (deflated 25%)\n"
          ]
        },
        {
          "output_type": "display_data",
          "data": {
            "text/plain": [
              "<IPython.core.display.Javascript object>"
            ],
            "application/javascript": [
              "\n",
              "    async function download(id, filename, size) {\n",
              "      if (!google.colab.kernel.accessAllowed) {\n",
              "        return;\n",
              "      }\n",
              "      const div = document.createElement('div');\n",
              "      const label = document.createElement('label');\n",
              "      label.textContent = `Downloading \"${filename}\": `;\n",
              "      div.appendChild(label);\n",
              "      const progress = document.createElement('progress');\n",
              "      progress.max = size;\n",
              "      div.appendChild(progress);\n",
              "      document.body.appendChild(div);\n",
              "\n",
              "      const buffers = [];\n",
              "      let downloaded = 0;\n",
              "\n",
              "      const channel = await google.colab.kernel.comms.open(id);\n",
              "      // Send a message to notify the kernel that we're ready.\n",
              "      channel.send({})\n",
              "\n",
              "      for await (const message of channel.messages) {\n",
              "        // Send a message to notify the kernel that we're ready.\n",
              "        channel.send({})\n",
              "        if (message.buffers) {\n",
              "          for (const buffer of message.buffers) {\n",
              "            buffers.push(buffer);\n",
              "            downloaded += buffer.byteLength;\n",
              "            progress.value = downloaded;\n",
              "          }\n",
              "        }\n",
              "      }\n",
              "      const blob = new Blob(buffers, {type: 'application/binary'});\n",
              "      const a = document.createElement('a');\n",
              "      a.href = window.URL.createObjectURL(blob);\n",
              "      a.download = filename;\n",
              "      div.appendChild(a);\n",
              "      a.click();\n",
              "      div.remove();\n",
              "    }\n",
              "  "
            ]
          },
          "metadata": {}
        },
        {
          "output_type": "display_data",
          "data": {
            "text/plain": [
              "<IPython.core.display.Javascript object>"
            ],
            "application/javascript": [
              "download(\"download_53cc209e-81fd-448f-8693-435d74d9fc5c\", \"woods-output.zip\", 242202)"
            ]
          },
          "metadata": {}
        }
      ]
    }
  ]
}