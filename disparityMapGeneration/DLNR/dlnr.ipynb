{
  "nbformat": 4,
  "nbformat_minor": 0,
  "metadata": {
    "colab": {
      "provenance": [],
      "gpuType": "T4"
    },
    "kernelspec": {
      "name": "python3",
      "display_name": "Python 3"
    },
    "language_info": {
      "name": "python"
    },
    "accelerator": "GPU"
  },
  "cells": [
    {
      "cell_type": "code",
      "source": [
        "!nvidia-smi"
      ],
      "metadata": {
        "id": "_ywi2nyUrgRZ"
      },
      "execution_count": null,
      "outputs": []
    },
    {
      "cell_type": "code",
      "source": [
        "import torch\n",
        "torch.cuda.is_available()"
      ],
      "metadata": {
        "id": "vBzOm-ELrgw4"
      },
      "execution_count": null,
      "outputs": []
    },
    {
      "cell_type": "code",
      "execution_count": null,
      "metadata": {
        "id": "-b8Cc__Hqlx3"
      },
      "outputs": [],
      "source": [
        "!git clone https://github.com/David-Zhao-1997/High-frequency-Stereo-Matching-Network"
      ]
    },
    {
      "cell_type": "markdown",
      "source": [
        "Upload the following files to `/content/High-frequency-Stereo-Matching-Network`:\n",
        "\n",
        "* `inference.py`\n",
        "* `DLNR_Middlebury.pth`"
      ],
      "metadata": {
        "id": "9E0fi_Q_xxKg"
      }
    },
    {
      "cell_type": "code",
      "source": [
        "!pip install scipy\n",
        "!pip install tqdm\n",
        "!pip install tensorboard\n",
        "!pip install opt_einsum\n",
        "!pip install imageio\n",
        "!pip install opencv-python\n",
        "!pip install scikit-image\n",
        "!pip install einops"
      ],
      "metadata": {
        "id": "gjrNc1tyxZXK"
      },
      "execution_count": null,
      "outputs": []
    },
    {
      "cell_type": "code",
      "source": [
        "%cd High-frequency-Stereo-Matching-Network\n",
        "!git clone https://github.com/smartadpole/EAI-Stereo.git"
      ],
      "metadata": {
        "id": "sQEUB858-_9o"
      },
      "execution_count": null,
      "outputs": []
    },
    {
      "cell_type": "markdown",
      "source": [
        "Change imports in `/content/High-frequency-Stereo-Matching-Network/EAIStereo/core/eai_stereo.py` to\n",
        "\n",
        "```\n",
        "from EAIStereo.core.update import BasicMultiUpdateBlock, LSTMMultiUpdateBlock\n",
        "from EAIStereo.core.extractor import BasicEncoder, MultiBasicEncoder, ResidualBlock\n",
        "from EAIStereo.core.corr import CorrBlock1D, PytorchAlternateCorrBlock1D, CorrBlockFast1D, AlternateCorrBlock\n",
        "from EAIStereo.core.utils.utils import coords_grid, upflow\n",
        "from EAIStereo.nets.refinement import *\n",
        "```"
      ],
      "metadata": {
        "id": "QCgH5jaGFg-h"
      }
    },
    {
      "cell_type": "markdown",
      "source": [
        "Upload test images to `/content/High-frequency-Stereo-Matching-Network`."
      ],
      "metadata": {
        "id": "ph0f_4X0xc4y"
      }
    },
    {
      "cell_type": "code",
      "source": [
        "!python3 inference.py -l /content/High-frequency-Stereo-Matching-Network/roses_L.png -r /content/High-frequency-Stereo-Matching-Network/roses_R.png --corr_implementation reg"
      ],
      "metadata": {
        "id": "a-Hccr28w4zZ"
      },
      "execution_count": null,
      "outputs": []
    }
  ]
}